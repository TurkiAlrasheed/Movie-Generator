{
 "cells": [
  {
   "cell_type": "code",
   "execution_count": 38,
   "id": "6e94d870",
   "metadata": {},
   "outputs": [
    {
     "name": "stdout",
     "output_type": "stream",
     "text": [
      "title: The Family overview: A young woman is able to find herself in the middle of a difficult time.\n"
     ]
    }
   ],
   "source": [
    "from transformers import T5Tokenizer, T5ForConditionalGeneration\n",
    "tokenizer = T5Tokenizer.from_pretrained(\"t5_movies\")\n",
    "model = T5ForConditionalGeneration.from_pretrained(\"t5_movies\")\n",
    "\n",
    "def generate_tv_show_description(adult, genres, keywords):\n",
    "    # Create a prompt\n",
    "    prompt = (f\"adult: {adult}\\n\"\n",
    "            f\"genres: {genres}\\n\"\n",
    "            f\"keywords: {keywords}\\n\"\n",
    "            \"Generate title and overview:\")\n",
    "\n",
    "    # Tokenize\n",
    "    input_ids = tokenizer.encode(prompt, return_tensors=\"pt\")\n",
    "    # Generate\n",
    "    output_ids = model.generate(\n",
    "        input_ids,\n",
    "        max_length=256,\n",
    "        num_beams=4,\n",
    "        no_repeat_ngram_size=10,\n",
    "        repetition_penalty=2.2,\n",
    "        #length_penalty=1.0,\n",
    "        early_stopping=True\n",
    "    )\n",
    "    output_text = tokenizer.decode(output_ids[0], skip_special_tokens=True)\n",
    "    return output_text\n",
    "\n",
    "# Example usage\n",
    "test_adult = False\n",
    "test_genres = \"Drama, Comedy, Action\"\n",
    "test_keywords = \"school, work, family\"\n",
    "\n",
    "result = generate_tv_show_description(test_adult, test_genres, test_keywords)\n",
    "print(result)"
   ]
  },
  {
   "cell_type": "code",
   "execution_count": null,
   "id": "de63d1ee",
   "metadata": {},
   "outputs": [],
   "source": []
  }
 ],
 "metadata": {
  "kernelspec": {
   "display_name": "base",
   "language": "python",
   "name": "python3"
  },
  "language_info": {
   "codemirror_mode": {
    "name": "ipython",
    "version": 3
   },
   "file_extension": ".py",
   "mimetype": "text/x-python",
   "name": "python",
   "nbconvert_exporter": "python",
   "pygments_lexer": "ipython3",
   "version": "3.12.8"
  }
 },
 "nbformat": 4,
 "nbformat_minor": 5
}
